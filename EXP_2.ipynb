{
  "nbformat": 4,
  "nbformat_minor": 0,
  "metadata": {
    "colab": {
      "name": "EXP-2.ipynb",
      "provenance": [],
      "authorship_tag": "ABX9TyPheA+s4d5HLqNxPvWBPRWx",
      "include_colab_link": true
    },
    "kernelspec": {
      "name": "python3",
      "display_name": "Python 3"
    },
    "language_info": {
      "name": "python"
    }
  },
  "cells": [
    {
      "cell_type": "markdown",
      "metadata": {
        "id": "view-in-github",
        "colab_type": "text"
      },
      "source": [
        "<a href=\"https://colab.research.google.com/github/Harikrish48/DSML/blob/main/EXP_2.ipynb\" target=\"_parent\"><img src=\"https://colab.research.google.com/assets/colab-badge.svg\" alt=\"Open In Colab\"/></a>"
      ]
    },
    {
      "cell_type": "code",
      "metadata": {
        "colab": {
          "base_uri": "https://localhost:8080/"
        },
        "id": "rdUbYHICq-yw",
        "outputId": "7abda7cb-453a-4677-c8be-ef813d7b070f"
      },
      "source": [
        "#Matrix operations using vectorization\n",
        "import numpy as np\n",
        "\n",
        "a = np.array([1, 2, 3])   # Create a rank 1 array\n",
        "print(\"type: %s\" %type(a))            # Prints \"<class 'numpy.ndarray'>\"\n",
        "print(\"shape: %s\" %a.shape)            # Prints \"(3,)\"\n",
        "print(a[0], a[1], a[2])   # Prints \"1 2 3\"\n",
        "a[0] = 5                  # Change an element of the array\n",
        "print(a)                  # Prints \"[5, 2, 3]\"\n",
        "\n",
        "b = np.array([[1,2,3],[4,5,6]])    # Create a rank 2 array\n",
        "print(\"\\n shape of b:\",b.shape)                     # Prints \"(2, 3)\"\n",
        "print(b[0, 0], b[0, 1], b[1, 0])   # Prints \"1 2 4\"\n",
        "\n",
        "a = np.zeros((2,2))   # Create an array of all zeros\n",
        "print(\"All zeros matrix:\\n  %s\" %a)              # Prints \"[[ 0.  0.]\n",
        "                      #          [ 0.  0.]]\"\n",
        "\n",
        "b = np.ones((1,2))    # Create an array of all ones\n",
        "print(\"\\nAll ones matrix:\\n  %s\" %b)              # Prints \"[[ 1.  1.]]\"\n",
        "\n",
        "d = np.eye(2)         # Create a 2x2 identity matrix\n",
        "print(\"\\n identity matrix: \\n%s\"%d)              # Prints \"[[ 1.  0.]\n",
        "                      #          [ 0.  1.]]\"\n",
        "\n",
        "e = np.random.random((2,2))  # Create an array filled with random values\n",
        "print(\"\\n random matrix: \\n%s\"%e)\n",
        "\n",
        "\n",
        "print(\"Vectorized sum example\\n\")\n",
        "x = np.array([[1,2],[3,4]])\n",
        "print(\"x:\\n %s\" %x)\n",
        "print(\"sum: %s\"%np.sum(x))  # Compute sum of all elements; prints \"10\"\n",
        "print(\"sum axis = 0: %s\" %np.sum(x, axis=0))  # Compute sum of each column; prints \"[4 6]\"\n",
        "print(\" sum axis = 1: %s\" %np.sum(x, axis=1))  # Compute sum of each row; prints \"[3 7]\"\n",
        "\n",
        "\n",
        "#matrix dot product\n",
        "\n",
        "a = np.arange(10000)\n",
        "b = np.arange(10000)\n",
        "\n",
        "dp = np.dot(a,b)\n",
        "\n",
        "print(\"Dot product: %s\\n\" %dp)\n",
        "\n",
        "#outer product\n",
        "op = np.outer(a,b)\n",
        "print(\"\\n Outer product: %s\\n\" %op)\n",
        "\n",
        "#elementwise product\n",
        "\n",
        "ep = np.multiply(a, b)\n",
        "\n",
        "print(\"\\n Element Wise product: %s \\n\" %ep)"
      ],
      "execution_count": 2,
      "outputs": [
        {
          "output_type": "stream",
          "name": "stdout",
          "text": [
            "type: <class 'numpy.ndarray'>\n",
            "shape: 3\n",
            "1 2 3\n",
            "[5 2 3]\n",
            "\n",
            " shape of b: (2, 3)\n",
            "1 2 4\n",
            "All zeros matrix:\n",
            "  [[0. 0.]\n",
            " [0. 0.]]\n",
            "\n",
            "All ones matrix:\n",
            "  [[1. 1.]]\n",
            "\n",
            " identity matrix: \n",
            "[[1. 0.]\n",
            " [0. 1.]]\n",
            "\n",
            " random matrix: \n",
            "[[0.98587021 0.73176478]\n",
            " [0.59343527 0.81965386]]\n",
            "Vectorized sum example\n",
            "\n",
            "x:\n",
            " [[1 2]\n",
            " [3 4]]\n",
            "sum: 10\n",
            "sum axis = 0: [4 6]\n",
            " sum axis = 1: [3 7]\n",
            "Dot product: 333283335000\n",
            "\n",
            "\n",
            " Outer product: [[       0        0        0 ...        0        0        0]\n",
            " [       0        1        2 ...     9997     9998     9999]\n",
            " [       0        2        4 ...    19994    19996    19998]\n",
            " ...\n",
            " [       0     9997    19994 ... 99940009 99950006 99960003]\n",
            " [       0     9998    19996 ... 99950006 99960004 99970002]\n",
            " [       0     9999    19998 ... 99960003 99970002 99980001]]\n",
            "\n",
            "\n",
            " Element Wise product: [       0        1        4 ... 99940009 99960004 99980001] \n",
            "\n"
          ]
        }
      ]
    },
    {
      "cell_type": "code",
      "metadata": {
        "colab": {
          "base_uri": "https://localhost:8080/"
        },
        "id": "vdSWLL0btTEv",
        "outputId": "118a4642-04be-41d5-fc0d-767fc29c1172"
      },
      "source": [
        "#Matrix transformation\n",
        "\n",
        "import numpy as np\n",
        "\n",
        "x = np.array([[1,2], [3,4]])\n",
        "print(\"Original x: \\n%s \" %x)    # Prints \"[[1 2]\n",
        "            #          [3 4]]\"\n",
        "print(\"\\nTranspose of x: \\n%s\" %x.T)  # Prints \"[[1 3]\n",
        "            #          [2 4]]\""
      ],
      "execution_count": 3,
      "outputs": [
        {
          "output_type": "stream",
          "name": "stdout",
          "text": [
            "Original x: \n",
            "[[1 2]\n",
            " [3 4]] \n",
            "\n",
            "Transpose of x: \n",
            "[[1 3]\n",
            " [2 4]]\n"
          ]
        }
      ]
    },
    {
      "cell_type": "code",
      "metadata": {
        "colab": {
          "base_uri": "https://localhost:8080/"
        },
        "id": "eB9knMJytZ55",
        "outputId": "810b7e06-9826-42d7-eeee-847ac07289c1"
      },
      "source": [
        "# Singular-value decomposition\n",
        "from numpy import array\n",
        "from scipy.linalg import svd\n",
        "# define a matrix\n",
        "A = array([[1, 2], [3, 4], [5, 6]])\n",
        "print(\"A: \\n%s\" %A)\n",
        "# SVD\n",
        "U, s, VT = svd(A)\n",
        "print(\"\\nU: \\n%s\" %U)\n",
        "print(\"\\ns: \\n %s\" %s)\n",
        "print(\"\\nV^T: \\n %s\" %VT)"
      ],
      "execution_count": 4,
      "outputs": [
        {
          "output_type": "stream",
          "name": "stdout",
          "text": [
            "A: \n",
            "[[1 2]\n",
            " [3 4]\n",
            " [5 6]]\n",
            "\n",
            "U: \n",
            "[[-0.2298477   0.88346102  0.40824829]\n",
            " [-0.52474482  0.24078249 -0.81649658]\n",
            " [-0.81964194 -0.40189603  0.40824829]]\n",
            "\n",
            "s: \n",
            " [9.52551809 0.51430058]\n",
            "\n",
            "V^T: \n",
            " [[-0.61962948 -0.78489445]\n",
            " [-0.78489445  0.61962948]]\n"
          ]
        }
      ]
    }
  ]
}